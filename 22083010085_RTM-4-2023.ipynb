{
 "cells": [
  {
   "cell_type": "markdown",
   "id": "d3d2c37e",
   "metadata": {},
   "source": [
    "### RTM-4: \"Membuat Kode Script Python untuk Memvalidasi Inputan User Menggunakan Setter dan Getter, serta Exception Handling\""
   ]
  },
  {
   "cell_type": "markdown",
   "id": "00376c7f",
   "metadata": {},
   "source": [
    "> ### Muhammad Aryasatya N (22083010085)"
   ]
  },
  {
   "cell_type": "markdown",
   "id": "7ecaad8d",
   "metadata": {},
   "source": [
    "Membuat kode script dengan menggunakan konsep error dan exception handling serta mengimplementasikan konsep OOP dan setter dan getter untuk menyimpan informasi:\n",
    "\n",
    "1. Nama\n",
    "2. Umur (umur 0 hingga 120 tahun), jika lebih dari itu maka buat InvalidAgeException\n",
    "3. Jenis kelamin (P dan L), jika selain itu dari itu maka buat InvalidGenderException\n",
    "4. Email (x@gmail.com), jika format e-mail salah maka buat InvalidEmailException"
   ]
  },
  {
   "cell_type": "code",
   "execution_count": 126,
   "id": "942a7c1b",
   "metadata": {},
   "outputs": [],
   "source": [
    "class InvalidAge(Exception):\n",
    "    pass\n",
    "class InvalidGender(Exception):\n",
    "    pass\n",
    "class InvalidEmail(Exception):\n",
    "    pass\n",
    "\n",
    "class person:\n",
    "    def __init__(self, n, a, g, e):\n",
    "        self.name = n \n",
    "        self.age = a\n",
    "        self.gender = g\n",
    "        self.email = e\n",
    "    \n",
    "    @property\n",
    "    def name(self):\n",
    "        return self.name\n",
    "    \n",
    "    @name.setter\n",
    "    def name(self, val):\n",
    "        self._name = val\n",
    "        \n",
    "    @property\n",
    "    def age(self):\n",
    "        return self._age\n",
    "    \n",
    "    @age.setter\n",
    "    def age(self, val):\n",
    "        if not 0 <= val <= 120:\n",
    "            raise InvalidAge\n",
    "        self._age = val\n",
    "        \n",
    "    @property\n",
    "    def gender(self):\n",
    "        return self._gender\n",
    "    \n",
    "    @gender.setter \n",
    "    def gender(self, val):\n",
    "        if val not in ['P','L']:\n",
    "            raise InvalidGender\n",
    "        self._gender = val\n",
    "        \n",
    "    @property\n",
    "    def email(self):\n",
    "        return self._email\n",
    "    \n",
    "    @email.setter\n",
    "    def email(self, val):\n",
    "        if not val.endswith('@gmail.com'): \n",
    "            raise InvalidEmail\n",
    "        self._email = val    "
   ]
  },
  {
   "cell_type": "markdown",
   "id": "068de015",
   "metadata": {},
   "source": [
    "Penggunaan Class"
   ]
  },
  {
   "cell_type": "code",
   "execution_count": 162,
   "id": "3a08d606",
   "metadata": {},
   "outputs": [
    {
     "ename": "Exception",
     "evalue": "Invalid email",
     "output_type": "error",
     "traceback": [
      "\u001b[1;31m---------------------------------------------------------------------------\u001b[0m",
      "\u001b[1;31mInvalidEmail\u001b[0m                              Traceback (most recent call last)",
      "Input \u001b[1;32mIn [162]\u001b[0m, in \u001b[0;36m<cell line: 1>\u001b[1;34m()\u001b[0m\n\u001b[0;32m      1\u001b[0m \u001b[38;5;28;01mtry\u001b[39;00m:\n\u001b[1;32m----> 2\u001b[0m     Ind1 \u001b[38;5;241m=\u001b[39m \u001b[43mperson\u001b[49m\u001b[43m(\u001b[49m\u001b[38;5;124;43m'\u001b[39;49m\u001b[38;5;124;43marya\u001b[39;49m\u001b[38;5;124;43m'\u001b[39;49m\u001b[43m,\u001b[49m\u001b[43m \u001b[49m\u001b[38;5;241;43m13\u001b[39;49m\u001b[43m,\u001b[49m\u001b[43m \u001b[49m\u001b[38;5;124;43m'\u001b[39;49m\u001b[38;5;124;43mL\u001b[39;49m\u001b[38;5;124;43m'\u001b[39;49m\u001b[43m,\u001b[49m\u001b[43m \u001b[49m\u001b[38;5;124;43m'\u001b[39;49m\u001b[38;5;124;43memail@outlook.com\u001b[39;49m\u001b[38;5;124;43m'\u001b[39;49m\u001b[43m)\u001b[49m\n\u001b[0;32m      3\u001b[0m \u001b[38;5;28;01mexcept\u001b[39;00m InvalidAge \u001b[38;5;28;01mas\u001b[39;00m e:\n",
      "Input \u001b[1;32mIn [126]\u001b[0m, in \u001b[0;36mperson.__init__\u001b[1;34m(self, n, a, g, e)\u001b[0m\n\u001b[0;32m     12\u001b[0m \u001b[38;5;28mself\u001b[39m\u001b[38;5;241m.\u001b[39mgender \u001b[38;5;241m=\u001b[39m g\n\u001b[1;32m---> 13\u001b[0m \u001b[38;5;28mself\u001b[39m\u001b[38;5;241m.\u001b[39memail \u001b[38;5;241m=\u001b[39m e\n",
      "Input \u001b[1;32mIn [126]\u001b[0m, in \u001b[0;36mperson.email\u001b[1;34m(self, val)\u001b[0m\n\u001b[0;32m     49\u001b[0m \u001b[38;5;28;01mif\u001b[39;00m \u001b[38;5;129;01mnot\u001b[39;00m val\u001b[38;5;241m.\u001b[39mendswith(\u001b[38;5;124m'\u001b[39m\u001b[38;5;124m@gmail.com\u001b[39m\u001b[38;5;124m'\u001b[39m): \n\u001b[1;32m---> 50\u001b[0m     \u001b[38;5;28;01mraise\u001b[39;00m InvalidEmail\n\u001b[0;32m     51\u001b[0m \u001b[38;5;28mself\u001b[39m\u001b[38;5;241m.\u001b[39m_email \u001b[38;5;241m=\u001b[39m val\n",
      "\u001b[1;31mInvalidEmail\u001b[0m: ",
      "\nDuring handling of the above exception, another exception occurred:\n",
      "\u001b[1;31mException\u001b[0m                                 Traceback (most recent call last)",
      "Input \u001b[1;32mIn [162]\u001b[0m, in \u001b[0;36m<cell line: 1>\u001b[1;34m()\u001b[0m\n\u001b[0;32m      6\u001b[0m     \u001b[38;5;28;01mraise\u001b[39;00m \u001b[38;5;167;01mException\u001b[39;00m(\u001b[38;5;124m\"\u001b[39m\u001b[38;5;124mInvalid gender\u001b[39m\u001b[38;5;124m\"\u001b[39m)\n\u001b[0;32m      7\u001b[0m \u001b[38;5;28;01mexcept\u001b[39;00m InvalidEmail \u001b[38;5;28;01mas\u001b[39;00m e:\n\u001b[1;32m----> 8\u001b[0m     \u001b[38;5;28;01mraise\u001b[39;00m \u001b[38;5;167;01mException\u001b[39;00m(\u001b[38;5;124m\"\u001b[39m\u001b[38;5;124mInvalid email\u001b[39m\u001b[38;5;124m\"\u001b[39m)\n\u001b[0;32m      9\u001b[0m \u001b[38;5;28;01melse\u001b[39;00m:\n\u001b[0;32m     10\u001b[0m     \u001b[38;5;28mprint\u001b[39m(\u001b[38;5;124m\"\u001b[39m\u001b[38;5;124mInformasi benar\u001b[39m\u001b[38;5;124m\"\u001b[39m)\n",
      "\u001b[1;31mException\u001b[0m: Invalid email"
     ]
    }
   ],
   "source": [
    "try:\n",
    "    Ind1 = person('arya', 13, 'L', 'email@outlook.com')\n",
    "except InvalidAge as e:\n",
    "    raise Exception(\"Invalid age\")\n",
    "except InvalidGender as e:\n",
    "    raise Exception(\"Invalid gender\")\n",
    "except InvalidEmail as e:\n",
    "    raise Exception(\"Invalid email\")\n",
    "else:\n",
    "    print(\"Informasi benar\")"
   ]
  },
  {
   "cell_type": "markdown",
   "id": "a99aedaf",
   "metadata": {},
   "source": [
    "Jika Semua Objek Sesuai"
   ]
  },
  {
   "cell_type": "code",
   "execution_count": 163,
   "id": "82a78da3",
   "metadata": {},
   "outputs": [
    {
     "name": "stdout",
     "output_type": "stream",
     "text": [
      "Informasi benar\n"
     ]
    }
   ],
   "source": [
    "try:\n",
    "    ind1 = person('arya', 13, 'L', 'helloworld@gmail.com')\n",
    "except InvalidAge as exc:\n",
    "    message = \"InvalidAgeException : umur hanya 0 - 120 tahun\"\n",
    "except InvalidGender:\n",
    "    message = \"InvalidGenderException : gender hanya 'P' atau 'L'\"\n",
    "except InvalidEmail:\n",
    "    message = \"InvalidEmailException : domain email bukan '@gmail.com'\"\n",
    "else:\n",
    "    message = \"Informasi benar\"\n",
    "    \n",
    "print(message)"
   ]
  },
  {
   "cell_type": "markdown",
   "id": "6ffce961",
   "metadata": {},
   "source": [
    "Jika Objek Umur Tidak Sesuai"
   ]
  },
  {
   "cell_type": "code",
   "execution_count": 158,
   "id": "8917120a",
   "metadata": {},
   "outputs": [
    {
     "name": "stdout",
     "output_type": "stream",
     "text": [
      "InvalidAgeException : umur hanya 0 - 120 tahun\n"
     ]
    }
   ],
   "source": [
    "try:\n",
    "    ind1 = person('arya', 130, 'L', 'helloworld@gmail.com')\n",
    "except InvalidAge as exc:\n",
    "    message = \"InvalidAgeException : umur hanya 0 - 120 tahun\"\n",
    "except InvalidGender:\n",
    "    message = \"InvalidGenderException : gender hanya 'P' atau 'L'\"\n",
    "except InvalidEmail:\n",
    "    message = \"InvalidEmailException : domain email bukan '@gmail.com'\"\n",
    "else:\n",
    "    message = \"Informasi benar!\"\n",
    "    \n",
    "print(message)"
   ]
  },
  {
   "cell_type": "markdown",
   "id": "6b42b3e6",
   "metadata": {},
   "source": [
    "Jika Objek Gender Tidak Sesuai"
   ]
  },
  {
   "cell_type": "code",
   "execution_count": 159,
   "id": "6395694b",
   "metadata": {},
   "outputs": [
    {
     "name": "stdout",
     "output_type": "stream",
     "text": [
      "InvalidGenderException : gender hanya 'P' atau 'L'\n"
     ]
    }
   ],
   "source": [
    "try:\n",
    "    ind1 = person('arya', 13, 'A', 'helloworld@gmail.com')\n",
    "except InvalidAge as exc:\n",
    "    message = \"InvalidAgeException : umur hanya 0 - 120 tahun\"\n",
    "except InvalidGender:\n",
    "    message = \"InvalidGenderException : gender hanya 'P' atau 'L'\"\n",
    "except InvalidEmail:\n",
    "    message = \"InvalidEmailException : domain email bukan '@gmail.com'\"\n",
    "else:\n",
    "    message = \"Informasi benar!\"\n",
    "    \n",
    "print(message)"
   ]
  },
  {
   "cell_type": "markdown",
   "id": "86584534",
   "metadata": {},
   "source": [
    "Jika Objek Email Tidak Sesuai"
   ]
  },
  {
   "cell_type": "code",
   "execution_count": 156,
   "id": "1c9260bb",
   "metadata": {},
   "outputs": [
    {
     "name": "stdout",
     "output_type": "stream",
     "text": [
      "InvalidEmailException : domain email bukan '@gmail.com'\n"
     ]
    }
   ],
   "source": [
    "try:\n",
    "    ind1 = person('arya', 13, 'L', 'helloworld@outlook.com')\n",
    "except InvalidAge as exc:\n",
    "    message = \"InvalidAgeException : umur hanya 0 - 120 tahun\"\n",
    "except InvalidGender:\n",
    "    message = \"InvalidGenderException : gender hanya 'P' / 'L'\"\n",
    "except InvalidEmail:\n",
    "    message = \"InvalidEmailException : domain email bukan '@gmail.com'\"\n",
    "else:\n",
    "    message = \"Informasi benar!\"\n",
    "    \n",
    "print(message)"
   ]
  },
  {
   "cell_type": "code",
   "execution_count": null,
   "id": "b38859ab",
   "metadata": {},
   "outputs": [],
   "source": []
  }
 ],
 "metadata": {
  "kernelspec": {
   "display_name": "Python 3 (ipykernel)",
   "language": "python",
   "name": "python3"
  },
  "language_info": {
   "codemirror_mode": {
    "name": "ipython",
    "version": 3
   },
   "file_extension": ".py",
   "mimetype": "text/x-python",
   "name": "python",
   "nbconvert_exporter": "python",
   "pygments_lexer": "ipython3",
   "version": "3.9.12"
  }
 },
 "nbformat": 4,
 "nbformat_minor": 5
}
